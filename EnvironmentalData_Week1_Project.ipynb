{
 "cells": [
  {
   "cell_type": "markdown",
   "metadata": {},
   "source": [
    "# Environmental Data Project"
   ]
  },
  {
   "cell_type": "markdown",
   "metadata": {},
   "source": [
    "**CORE QUESTION:**\n",
    "\n",
    "*Should  French Champagne makers invest in wineries in Hampshire UK?*\n",
    "\n",
    "**TASK:**\n",
    "\n",
    "1. develop a research strategy answering questions including:\n",
    "    * Hampshire is currently good enough for growing grapes, but will climate change affect the current climate in Hampshire? If so, how?\n",
    "    * Will climate change affect the wine business in Hampshire? If so, how? Will it negatively, positively, minimal or no change?\n",
    "    * How may climate change affect wineries in Hampshire in the coming 50 years?\n",
    "\n",
    "2. present initial results on the issue\n",
    "\n",
    "3. issue a preliminary recommendation as to whether Tattinger should or should not invest in UK wineries going forward."
   ]
  },
  {
   "cell_type": "markdown",
   "metadata": {},
   "source": [
    "**CONSIDERATIONS**\n",
    "\n",
    "* What data should we use?\n",
    "* How can this data be accessed (and analyzed)?\n",
    "* What can be learned from this data?\n",
    "\n",
    "* Consider resolution, data use policy, data storage, analytical requirements.\n",
    "\n",
    "* Approach each part of the analysis as an experiment with an\n",
    "    * Hypothesis\n",
    "    * Application of methodology\n",
    "    * Results\n",
    "    * Critique of results in relation to hypothesis\n",
    "    * Caveats, limitations"
   ]
  },
  {
   "cell_type": "markdown",
   "metadata": {},
   "source": [
    "## Importing Libraries"
   ]
  },
  {
   "cell_type": "code",
   "execution_count": 16,
   "metadata": {},
   "outputs": [],
   "source": [
    "# importing the regs\n",
    "import numpy as np, matplotlib.pyplot as plt, pandas as pd, seaborn as sns\n",
    "\n",
    "# importin the system ones\n",
    "import os, sys, glob, re, datetime\n",
    "\n",
    "import xarray as xr\n",
    "import pygrib\n",
    "import cfunits\n",
    "# import gdal\n",
    "import netCDF4\n",
    "\n",
    "from datetime import datetime, timedelta\n",
    "from cftime import num2date, date2num\n",
    "\n"
   ]
  },
  {
   "cell_type": "markdown",
   "metadata": {},
   "source": [
    "## Downloading / Importing Data"
   ]
  },
  {
   "cell_type": "markdown",
   "metadata": {},
   "source": [
    "### CEDA"
   ]
  },
  {
   "cell_type": "markdown",
   "metadata": {},
   "source": [
    "1. Go to https://esgf-ui.ceda.ac.uk/cog/projects/esgf-ceda/\n",
    "2. Click CMIP6\n",
    "3. Select the following filters:\n",
    "    * MIP Era: CMIP6\n",
    "    * Activity: CMIP\n",
    "    * Product: model-output\n",
    "    * Experiment ID: historical\n",
    "    * CF Standard Name: air temperature, surface temperature"
   ]
  },
  {
   "cell_type": "markdown",
   "metadata": {},
   "source": [
    "Potentially useful metrics from CMIP\n",
    "air_temperature\n",
    "atmosphere_mass_content_of_hail\n",
    "atmosphere_mass_content_of_snow\n",
    "canopy_snow_amount\n",
    "canopy_temperature\n",
    "convective_precipitation_amount\n",
    "convective_rainfall_amount\n",
    "eastward_wind\n",
    "hail_fall_amount\n",
    "humidity_mixing_ratio\n",
    "number_of_days_with_air_temperature_below_threshold\n",
    "number_of_days_with_air_temperature_above_threshold\n",
    "number_of_days_with_surface_temperature_below_threshold\n",
    "\n",
    "rainfall_amount\n",
    "relative_humidity\n",
    "\n",
    "surface_specific_humidity\n",
    "surface_temperature"
   ]
  },
  {
   "cell_type": "markdown",
   "metadata": {},
   "source": [
    "Identifier DOI: http://doi.org/10.22033/ESGF/CMIP6.6109\n",
    "Creators: Ridley, Jeff; Menary, Matthew; Kuhlbrodt, Till et al.\n",
    "Title: MOHC HadGEM3-GC31-LL model output prepared for CMIP6 CMIP historical\n",
    "Publisher: Earth System Grid Federation\n",
    "Publication Year: 2019\n",
    "License: Creative Commons Attribution 4.0 International License (CC BY 4.0)"
   ]
  },
  {
   "cell_type": "markdown",
   "metadata": {},
   "source": [
    "### UKCP"
   ]
  },
  {
   "cell_type": "code",
   "execution_count": null,
   "metadata": {},
   "outputs": [],
   "source": []
  },
  {
   "cell_type": "markdown",
   "metadata": {},
   "source": [
    "### ERA5"
   ]
  },
  {
   "cell_type": "markdown",
   "metadata": {},
   "source": [
    "Climate indicators for Europe from 1940 to 2100 derived from reanalysis and climate projections\n",
    "NetCDF-4\n",
    "\n"
   ]
  },
  {
   "cell_type": "code",
   "execution_count": 32,
   "metadata": {},
   "outputs": [
    {
     "name": "stderr",
     "output_type": "stream",
     "text": [
      "2025-01-09 13:49:58,133 DEBUG GET https://cds.climate.copernicus.eu/api/catalogue/v1/messages\n",
      "2025-01-09 13:49:58,243 DEBUG REPLY {\"messages\":[{\"id\":\"sites/cds/2024/2024-06-17-beta-warning2.md\",\"date\":\"2025-01-08T00:00:00\",\"summary\":null,\"url\":null,\"severity\":\"warning\",\"content\":\"Please be informed that Beta URL (cds-beta) have been now discontinued. If you still need to migrate, please follow [available instructions here](https://forum.ecmwf.int/t/goodbye-legacy-climate-data-store-hello-new-climate-data-store-cds/6380)\",\"live\":true},{\"id\":\"sites/cds/2024/2024-02-01-alpha-mode.md\",\"date\":\"2024-09-28T00:00:00\",\"summary\":null,\"url\":null,\"severity\":\"info\",\"content\":\"**Welcome to the New Climate Data Store (CDS)!** This new system is in its early days of full operations and still undergoing enhancements and fine tuning. Some disruptions are to be expected. Your \\n[feedback](https://jira.ecmwf.int/plugins/servlet/desk/portal/1/create/202) is key to improve the user experience on the new CDS for the benefit of everyone. Thank you.\",\"live\":true},{\"id\":\"sites/cds/2024/2024-03-01-production-keycloak.md\",\"date\":\"2024-09-26T00:00:00\",\"summary\":null,\"url\":null,\"severity\":\"info\",\"content\":\"Watch our [Forum](https://forum.ecmwf.int/) for Announcements, news and other discussed topics.\",\"live\":true},{\"id\":\"sites/cds/2024/2024-03-01-datasets.md\",\"date\":\"2024-09-16T00:00:00\",\"summary\":null,\"url\":null,\"severity\":\"info\",\"content\":\"Remember that you need to have an ECMWF account to use the new CDS. **Your old CDS credentials will not work in new CDS!**\",\"live\":true},{\"id\":\"sites/cds/2024/2024-06-17-beta-warning1.md\",\"date\":\"2024-06-16T00:00:00\",\"summary\":null,\"url\":null,\"severity\":\"warning\",\"content\":\"CDS API syntax is changed and some keys or parameter names may have also changed. To avoid requests failing, please use the \\\"Show API request code\\\" tool on the dataset Download Form to check you are using the correct syntax for your API request.\",\"live\":true}]}\n",
      "2025-01-09 13:49:58,244 WARNING [2025-01-08T00:00:00] Please be informed that Beta URL (cds-beta) have been now discontinued. If you still need to migrate, please follow [available instructions here](https://forum.ecmwf.int/t/goodbye-legacy-climate-data-store-hello-new-climate-data-store-cds/6380)\n",
      "2025-01-09 13:49:58,244 INFO [2024-09-28T00:00:00] **Welcome to the New Climate Data Store (CDS)!** This new system is in its early days of full operations and still undergoing enhancements and fine tuning. Some disruptions are to be expected. Your \n",
      "[feedback](https://jira.ecmwf.int/plugins/servlet/desk/portal/1/create/202) is key to improve the user experience on the new CDS for the benefit of everyone. Thank you.\n",
      "2025-01-09 13:49:58,244 INFO [2024-09-26T00:00:00] Watch our [Forum](https://forum.ecmwf.int/) for Announcements, news and other discussed topics.\n",
      "2025-01-09 13:49:58,244 INFO [2024-09-16T00:00:00] Remember that you need to have an ECMWF account to use the new CDS. **Your old CDS credentials will not work in new CDS!**\n",
      "2025-01-09 13:49:58,245 WARNING [2024-06-16T00:00:00] CDS API syntax is changed and some keys or parameter names may have also changed. To avoid requests failing, please use the \"Show API request code\" tool on the dataset Download Form to check you are using the correct syntax for your API request.\n",
      "2025-01-09 13:49:58,245 DEBUG CDSAPI {'url': 'https://cds.climate.copernicus.eu/api', 'key': '3dabbb79-833a-4098-bff3-a2c59d43389d', 'quiet': False, 'verify': True, 'timeout': 60, 'progress': True, 'sleep_max': 120, 'retry_max': 500, 'delete': False, 'datapi_version': '0.1.2'}\n",
      "2025-01-09 13:49:58,245 DEBUG GET https://cds.climate.copernicus.eu/api/retrieve/v1/processes/sis-ecde-climate-indicators\n",
      "2025-01-09 13:49:58,328 DEBUG REPLY {\"title\":\"Climate indicators for Europe from 1940 to 2100 derived from reanalysis and climate projections\",\"description\":\"This dataset provides a series of climate indices derived from reanalysis and model simulations data hosted on the Copernicus Climate Data Store (CDS). These indicators describe how climate variability and change of essential climate variables can impact sectors such as health, agriculture, forestry, energy, tourism, or water and coastal management.\\nThose indices are relevant for adaptation planning at the European and national level and their development was driven by the European Environment Agency (EEA) to address informational needs of climate change adaptation national initiatives across the EU and partner countries as expressed by user requirements and stakeholder consultation. The indices cover the hazard categories introduced by the IPCC and the European Topic Centre on Climate Change Impacts, Vulnerability and Adaptation (ETC-CCA). They are also made available interactively through CDS Toolbox public visualisation apps on the European Climate Data Explorer hosted on EEA’s Climate-adapt site.\\nThe indices are either downloaded from the CDS where available, or calculated through a specific CDS Toolbox workflow. In this way both the calculations and the resulting data are fully traceable. As they come from different datasets the underlying climate data differ in their technical specification (type and number of climate and impact models involved, bias-corrected or not, periods covered etc.). An effort was made in the dataset selection to limit the heterogeneity of the underlying dataset as ideally the indices should come from the same dataset with identical specifications.\\nThe indices related to temperature, precipitation and wind (20 out of 30) were calculated from atmospheric variables in the same datasets: 'Climate and energy indicators for Europe from 2005 to 2100 derived from climate projections', and 'ERA5 hourly data on single levels from 1940 to present'. The other indices are directly available from CDS datasets generated by specific theme projects. More information about this dataset can be found in the documentation.\\nThe underlying datasets hosted on the CDS are:\\n\\nERA5 hourly data on single levels from 1940 to present - used to calculate most of the temperature, precipitation and wind speed indicators as it provides the historical and observation based baseline used to monitor the indicators.\\nClimate and energy indicators for Europe from 2005 to 2100 derived from climate projections - used to calculate most of the temperature, precipitation and wind speed indicators as it provides bias-corrected sub-daily data. It is used for all the indicators except those specified in the following datasets below.\\nFire danger indicators for Europe from 1970 to 2098 derived from climate projections - provides the high fire danger days and fire weather indicators.\\nHydrology-related climate impact indicators from 1970 to 2100 derived from bias adjusted European climate projections - provides the river flood, river discharge, aridity actual, and mean soil moisture indicators.\\nMountain tourism meteorological and snow indicators for Europe from 1950 to 2100 derived from reanalysis and climate projections - provides the snowfall amount index.\\nWater level change indicators for the European coast from 1977 to 2100 derived from climate projections - provides the relative sea level rise and extreme sea level indicators.\\n\\nThis dataset was produced on behalf of the Copernicus Climate Change Service.\",\"id\":\"sis-ecde-climate-indicators\",\"version\":\"1.0.0\",\"jobControlOptions\":[\"async-execute\"],\"outputTransmission\":[\"reference\"],\"links\":[{\"href\":\"https://cds.climate.copernicus.eu/api/retrieve/v1/processes/sis-ecde-climate-indicators\",\"rel\":\"self\"},{\"href\":\"https://cds.climate.copernicus.eu/api/retrieve/v1/processes/sis-ecde-climate-indicators/execution\",\"rel\":\"execute\",\"type\":\"application/json\",\"title\":\"process execution\"}],\"inputs\":{\"variable\":{\"title\":\"Variable\",\"schema\":{\"type\":\"array\",\"items\":{\"enum\":[\"aridity_actual\",\"consecutive_dry_days\",\"cooling_degree_days\",\"daily_maximum_temperature\",\"daily_minimum_temperature\",\"days_with_high_fire_danger\",\"duration_of_meteorological_droughts\",\"extreme_precipitation_total\",\"extreme_sea_level\",\"extreme_wind_speed_days\",\"fire_weather_index\",\"flood_recurrence\",\"frequency_of_extreme_precipitation\",\"frost_days\",\"growing_degree_days\",\"heating_degree_days\",\"heatwave_days\",\"high_utci_days\",\"hot_days\",\"magnitude_of_meteorological_droughts\",\"maximum_consecutive_five_day_precipitation\",\"mean_river_discharge\",\"mean_soil_moisture\",\"mean_temperature\",\"mean_wind_speed\",\"relative_sea_level_rise\",\"snowfall_amount\",\"total_precipitation\",\"tropical_nights\",\"warmest_three_day_period\"],\"type\":\"string\"}}},\"origin\":{\"title\":\"Origin\",\"schema\":{\"enum\":[\"reanalysis\",\"projections\"],\"type\":\"string\"}},\"gcm\":{\"title\":\"Global Climate Model\",\"schema\":{\"type\":\"array\",\"items\":{\"enum\":[\"cm2_vhr4\",\"cm5a_mr\",\"cnrm_cm5\",\"ec_earth\",\"ec_earth3p_hr\",\"hadgem2_es\",\"hadgem3_gc31_hm\",\"hadgem3_gc31_hm_sst\",\"ipsl_cm5a_mr\",\"mpi_esm_lr\",\"noresm1_m\"],\"type\":\"string\"}}},\"rcm\":{\"title\":\"Regional Climate Model\",\"schema\":{\"type\":\"array\",\"items\":{\"enum\":[\"aladin53\",\"cclm4_8_17\",\"csc_remo2009\",\"hirham5\",\"racmo22e\",\"rca4\",\"this_is_another_remo2009\",\"wrf331f\",\"wrf381p\"],\"type\":\"string\"}}},\"experiment\":{\"title\":\"Experiment\",\"schema\":{\"type\":\"array\",\"items\":{\"enum\":[\"historical\",\"rcp4_5\",\"rcp8_5\",\"ssp5_8_5\"],\"type\":\"string\"}}},\"ensemble_member\":{\"title\":\"Ensemble member\",\"schema\":{\"type\":\"array\",\"items\":{\"enum\":[\"r12i1p1\",\"r1i1p1\",\"r2i1p1\",\"r3i1p1\"],\"type\":\"string\"}}},\"hydrological_model\":{\"title\":\"Hydrological model\",\"schema\":{\"type\":\"array\",\"items\":{\"enum\":[\"e_hype\",\"vic_wur\"],\"type\":\"string\"}}},\"temporal_aggregation\":{\"title\":\"Temporal aggregation\",\"schema\":{\"type\":\"array\",\"items\":{\"enum\":[\"monthly\",\"seasonal\",\"yearly\"],\"type\":\"string\"}}},\"spatial_aggregation\":{\"title\":\"Spatial aggregation\",\"schema\":{\"enum\":[\"gridded\",\"regional_layer\"],\"type\":\"string\"}},\"regional_layer\":{\"title\":\"Regional layer\",\"schema\":{\"type\":\"array\",\"items\":{\"enum\":[\"adriatic_ionian\",\"alpine_space\",\"atlantic_area\",\"baltic_sea_region\",\"central_europe\",\"danube\",\"eea_32\",\"eea_38\",\"eu_27\",\"mediterranean\",\"non_nuts\",\"north_sea\",\"north_west_europe\",\"northern_periphery_and_arctic\",\"nuts_level_0\",\"nuts_level_1\",\"nuts_level_2\",\"nuts_level_3\",\"south_west_europe\"],\"type\":\"string\"}}},\"other_parameters\":{\"title\":\"Other parameters\",\"schema\":{\"type\":\"array\",\"items\":{\"enum\":[\"1_in_10_year\",\"1_in_2_year\",\"1_in_50_year\",\"1_in_5_year\",\"30_c\",\"35_c\",\"40_c\",\"max\",\"mean\",\"min\"],\"type\":\"string\"}}}},\"outputs\":{\"asset\":{\"title\":\"Asset\",\"description\":\"Downloadable asset description\",\"schema\":{\"type\":\"object\",\"properties\":{\"value\":{\"title\":\"FileInfoModel\",\"required\":[\"type\",\"href\",\"file:checksum\",\"file:size\",\"file:local_path\"],\"type\":\"object\",\"properties\":{\"type\":{\"title\":\"Type\",\"type\":\"string\"},\"href\":{\"title\":\"Href\",\"type\":\"string\"},\"file:checksum\":{\"title\":\"File:Checksum\",\"type\":\"string\"},\"file:size\":{\"title\":\"File:Size\",\"type\":\"integer\"},\"file:local_path\":{\"title\":\"File:Local Path\",\"type\":\"string\"}}}}}}}}\n",
      "2025-01-09 13:49:58,329 DEBUG POST https://cds.climate.copernicus.eu/api/retrieve/v1/processes/sis-ecde-climate-indicators/execution {'variable': ['mean_temperature', 'growing_degree_days', 'daily_maximum_temperature', 'daily_minimum_temperature', 'total_precipitation'], 'origin': 'reanalysis', 'temporal_aggregation': ['monthly'], 'spatial_aggregation': 'gridded', 'other_parameters': ['max', 'mean', 'min'], 'format': 'zip', 'area': [51.5, -5.5, 50.0, 1.5]}\n",
      "2025-01-09 13:49:58,512 DEBUG REPLY {\"processID\":\"sis-ecde-climate-indicators\",\"type\":\"process\",\"jobID\":\"3769c20e-7308-437f-9a67-548016a4c58b\",\"status\":\"accepted\",\"created\":\"2025-01-09T13:49:58.445786\",\"updated\":\"2025-01-09T13:49:58.445786\",\"links\":[{\"href\":\"https://cds.climate.copernicus.eu/api/retrieve/v1/processes/sis-ecde-climate-indicators/execution\",\"rel\":\"self\"},{\"href\":\"https://cds.climate.copernicus.eu/api/retrieve/v1/jobs/3769c20e-7308-437f-9a67-548016a4c58b\",\"rel\":\"monitor\",\"type\":\"application/json\",\"title\":\"job status info\"}],\"metadata\":{\"datasetMetadata\":{\"messages\":[]},\"origin\":\"api\"}}\n",
      "2025-01-09 13:49:58,513 INFO Request ID is 3769c20e-7308-437f-9a67-548016a4c58b\n",
      "2025-01-09 13:49:58,513 DEBUG GET https://cds.climate.copernicus.eu/api/retrieve/v1/jobs/3769c20e-7308-437f-9a67-548016a4c58b\n",
      "2025-01-09 13:49:58,584 DEBUG REPLY {\"processID\":\"sis-ecde-climate-indicators\",\"type\":\"process\",\"jobID\":\"3769c20e-7308-437f-9a67-548016a4c58b\",\"status\":\"accepted\",\"created\":\"2025-01-09T13:49:58.445786\",\"updated\":\"2025-01-09T13:49:58.445786\",\"links\":[{\"href\":\"https://cds.climate.copernicus.eu/api/retrieve/v1/jobs/3769c20e-7308-437f-9a67-548016a4c58b\",\"rel\":\"self\",\"type\":\"application/json\"}],\"metadata\":{\"request\":{\"ids\":{\"area\":[51.5,-5.5,50.0,1.5],\"format\":\"zip\",\"origin\":\"reanalysis\",\"variable\":[\"mean_temperature\",\"growing_degree_days\",\"daily_maximum_temperature\",\"daily_minimum_temperature\",\"total_precipitation\"],\"other_parameters\":[\"max\",\"mean\",\"min\"],\"spatial_aggregation\":\"gridded\",\"temporal_aggregation\":[\"monthly\"]},\"labels\":{\"area\":\"[51.5, -5.5, 50.0, 1.5]\",\"format\":\"zip\",\"Variable\":[\"Mean temperature\",\"Growing degree days\",\"Daily maximum temperature\",\"Daily minimum temperature\",\"Total precipitation\"],\"Origin\":[\"Reanalysis\"],\"Temporal aggregation\":[\"Monthly\"],\"Spatial aggregation\":[\"Gridded\"],\"Other parameters\":[\"Max\",\"Mean\",\"Min\"]}},\"log\":[],\"origin\":\"api\"}}\n",
      "2025-01-09 13:49:58,585 INFO status has been updated to accepted\n",
      "2025-01-09 13:49:58,585 DEBUG results not ready, waiting for 1.0 seconds\n",
      "2025-01-09 13:49:59,591 DEBUG GET https://cds.climate.copernicus.eu/api/retrieve/v1/jobs/3769c20e-7308-437f-9a67-548016a4c58b\n",
      "2025-01-09 13:49:59,654 DEBUG REPLY {\"processID\":\"sis-ecde-climate-indicators\",\"type\":\"process\",\"jobID\":\"3769c20e-7308-437f-9a67-548016a4c58b\",\"status\":\"accepted\",\"created\":\"2025-01-09T13:49:58.445786\",\"updated\":\"2025-01-09T13:49:58.445786\",\"links\":[{\"href\":\"https://cds.climate.copernicus.eu/api/retrieve/v1/jobs/3769c20e-7308-437f-9a67-548016a4c58b\",\"rel\":\"self\",\"type\":\"application/json\"}],\"metadata\":{\"request\":{\"ids\":{\"area\":[51.5,-5.5,50.0,1.5],\"format\":\"zip\",\"origin\":\"reanalysis\",\"variable\":[\"mean_temperature\",\"growing_degree_days\",\"daily_maximum_temperature\",\"daily_minimum_temperature\",\"total_precipitation\"],\"other_parameters\":[\"max\",\"mean\",\"min\"],\"spatial_aggregation\":\"gridded\",\"temporal_aggregation\":[\"monthly\"]},\"labels\":{\"area\":\"[51.5, -5.5, 50.0, 1.5]\",\"format\":\"zip\",\"Variable\":[\"Mean temperature\",\"Growing degree days\",\"Daily maximum temperature\",\"Daily minimum temperature\",\"Total precipitation\"],\"Origin\":[\"Reanalysis\"],\"Temporal aggregation\":[\"Monthly\"],\"Spatial aggregation\":[\"Gridded\"],\"Other parameters\":[\"Max\",\"Mean\",\"Min\"]}},\"log\":[],\"origin\":\"api\"}}\n",
      "2025-01-09 13:49:59,656 DEBUG results not ready, waiting for 1.5 seconds\n",
      "2025-01-09 13:50:01,158 DEBUG GET https://cds.climate.copernicus.eu/api/retrieve/v1/jobs/3769c20e-7308-437f-9a67-548016a4c58b\n",
      "2025-01-09 13:50:01,259 DEBUG REPLY {\"processID\":\"sis-ecde-climate-indicators\",\"type\":\"process\",\"jobID\":\"3769c20e-7308-437f-9a67-548016a4c58b\",\"status\":\"accepted\",\"created\":\"2025-01-09T13:49:58.445786\",\"updated\":\"2025-01-09T13:49:58.445786\",\"links\":[{\"href\":\"https://cds.climate.copernicus.eu/api/retrieve/v1/jobs/3769c20e-7308-437f-9a67-548016a4c58b\",\"rel\":\"self\",\"type\":\"application/json\"}],\"metadata\":{\"request\":{\"ids\":{\"area\":[51.5,-5.5,50.0,1.5],\"format\":\"zip\",\"origin\":\"reanalysis\",\"variable\":[\"mean_temperature\",\"growing_degree_days\",\"daily_maximum_temperature\",\"daily_minimum_temperature\",\"total_precipitation\"],\"other_parameters\":[\"max\",\"mean\",\"min\"],\"spatial_aggregation\":\"gridded\",\"temporal_aggregation\":[\"monthly\"]},\"labels\":{\"area\":\"[51.5, -5.5, 50.0, 1.5]\",\"format\":\"zip\",\"Variable\":[\"Mean temperature\",\"Growing degree days\",\"Daily maximum temperature\",\"Daily minimum temperature\",\"Total precipitation\"],\"Origin\":[\"Reanalysis\"],\"Temporal aggregation\":[\"Monthly\"],\"Spatial aggregation\":[\"Gridded\"],\"Other parameters\":[\"Max\",\"Mean\",\"Min\"]}},\"log\":[],\"origin\":\"api\"}}\n",
      "2025-01-09 13:50:01,260 DEBUG results not ready, waiting for 2.25 seconds\n",
      "2025-01-09 13:50:03,515 DEBUG GET https://cds.climate.copernicus.eu/api/retrieve/v1/jobs/3769c20e-7308-437f-9a67-548016a4c58b\n",
      "2025-01-09 13:50:03,573 DEBUG REPLY {\"processID\":\"sis-ecde-climate-indicators\",\"type\":\"process\",\"jobID\":\"3769c20e-7308-437f-9a67-548016a4c58b\",\"status\":\"accepted\",\"created\":\"2025-01-09T13:49:58.445786\",\"updated\":\"2025-01-09T13:49:58.445786\",\"links\":[{\"href\":\"https://cds.climate.copernicus.eu/api/retrieve/v1/jobs/3769c20e-7308-437f-9a67-548016a4c58b\",\"rel\":\"self\",\"type\":\"application/json\"}],\"metadata\":{\"request\":{\"ids\":{\"area\":[51.5,-5.5,50.0,1.5],\"format\":\"zip\",\"origin\":\"reanalysis\",\"variable\":[\"mean_temperature\",\"growing_degree_days\",\"daily_maximum_temperature\",\"daily_minimum_temperature\",\"total_precipitation\"],\"other_parameters\":[\"max\",\"mean\",\"min\"],\"spatial_aggregation\":\"gridded\",\"temporal_aggregation\":[\"monthly\"]},\"labels\":{\"area\":\"[51.5, -5.5, 50.0, 1.5]\",\"format\":\"zip\",\"Variable\":[\"Mean temperature\",\"Growing degree days\",\"Daily maximum temperature\",\"Daily minimum temperature\",\"Total precipitation\"],\"Origin\":[\"Reanalysis\"],\"Temporal aggregation\":[\"Monthly\"],\"Spatial aggregation\":[\"Gridded\"],\"Other parameters\":[\"Max\",\"Mean\",\"Min\"]}},\"log\":[],\"origin\":\"api\"}}\n",
      "2025-01-09 13:50:03,574 DEBUG results not ready, waiting for 3.375 seconds\n",
      "2025-01-09 13:50:06,956 DEBUG GET https://cds.climate.copernicus.eu/api/retrieve/v1/jobs/3769c20e-7308-437f-9a67-548016a4c58b\n",
      "2025-01-09 13:50:07,022 DEBUG REPLY {\"processID\":\"sis-ecde-climate-indicators\",\"type\":\"process\",\"jobID\":\"3769c20e-7308-437f-9a67-548016a4c58b\",\"status\":\"running\",\"created\":\"2025-01-09T13:49:58.445786\",\"started\":\"2025-01-09T13:50:04.416314\",\"updated\":\"2025-01-09T13:50:04.416314\",\"links\":[{\"href\":\"https://cds.climate.copernicus.eu/api/retrieve/v1/jobs/3769c20e-7308-437f-9a67-548016a4c58b\",\"rel\":\"self\",\"type\":\"application/json\"}],\"metadata\":{\"request\":{\"ids\":{\"area\":[51.5,-5.5,50.0,1.5],\"format\":\"zip\",\"origin\":\"reanalysis\",\"variable\":[\"mean_temperature\",\"growing_degree_days\",\"daily_maximum_temperature\",\"daily_minimum_temperature\",\"total_precipitation\"],\"other_parameters\":[\"max\",\"mean\",\"min\"],\"spatial_aggregation\":\"gridded\",\"temporal_aggregation\":[\"monthly\"]},\"labels\":{\"area\":\"[51.5, -5.5, 50.0, 1.5]\",\"format\":\"zip\",\"Variable\":[\"Mean temperature\",\"Growing degree days\",\"Daily maximum temperature\",\"Daily minimum temperature\",\"Total precipitation\"],\"Origin\":[\"Reanalysis\"],\"Temporal aggregation\":[\"Monthly\"],\"Spatial aggregation\":[\"Gridded\"],\"Other parameters\":[\"Max\",\"Mean\",\"Min\"]}},\"log\":[],\"origin\":\"api\"}}\n",
      "2025-01-09 13:50:07,023 INFO status has been updated to running\n",
      "2025-01-09 13:50:07,023 DEBUG results not ready, waiting for 5.0625 seconds\n",
      "2025-01-09 13:50:12,092 DEBUG GET https://cds.climate.copernicus.eu/api/retrieve/v1/jobs/3769c20e-7308-437f-9a67-548016a4c58b\n",
      "2025-01-09 13:50:12,195 DEBUG REPLY {\"processID\":\"sis-ecde-climate-indicators\",\"type\":\"process\",\"jobID\":\"3769c20e-7308-437f-9a67-548016a4c58b\",\"status\":\"running\",\"created\":\"2025-01-09T13:49:58.445786\",\"started\":\"2025-01-09T13:50:04.416314\",\"updated\":\"2025-01-09T13:50:04.416314\",\"links\":[{\"href\":\"https://cds.climate.copernicus.eu/api/retrieve/v1/jobs/3769c20e-7308-437f-9a67-548016a4c58b\",\"rel\":\"self\",\"type\":\"application/json\"}],\"metadata\":{\"request\":{\"ids\":{\"area\":[51.5,-5.5,50.0,1.5],\"format\":\"zip\",\"origin\":\"reanalysis\",\"variable\":[\"mean_temperature\",\"growing_degree_days\",\"daily_maximum_temperature\",\"daily_minimum_temperature\",\"total_precipitation\"],\"other_parameters\":[\"max\",\"mean\",\"min\"],\"spatial_aggregation\":\"gridded\",\"temporal_aggregation\":[\"monthly\"]},\"labels\":{\"area\":\"[51.5, -5.5, 50.0, 1.5]\",\"format\":\"zip\",\"Variable\":[\"Mean temperature\",\"Growing degree days\",\"Daily maximum temperature\",\"Daily minimum temperature\",\"Total precipitation\"],\"Origin\":[\"Reanalysis\"],\"Temporal aggregation\":[\"Monthly\"],\"Spatial aggregation\":[\"Gridded\"],\"Other parameters\":[\"Max\",\"Mean\",\"Min\"]}},\"log\":[],\"origin\":\"api\"}}\n",
      "2025-01-09 13:50:12,196 DEBUG results not ready, waiting for 7.59375 seconds\n",
      "2025-01-09 13:50:19,795 DEBUG GET https://cds.climate.copernicus.eu/api/retrieve/v1/jobs/3769c20e-7308-437f-9a67-548016a4c58b\n",
      "2025-01-09 13:50:19,842 DEBUG REPLY {\"processID\":\"sis-ecde-climate-indicators\",\"type\":\"process\",\"jobID\":\"3769c20e-7308-437f-9a67-548016a4c58b\",\"status\":\"running\",\"created\":\"2025-01-09T13:49:58.445786\",\"started\":\"2025-01-09T13:50:04.416314\",\"updated\":\"2025-01-09T13:50:04.416314\",\"links\":[{\"href\":\"https://cds.climate.copernicus.eu/api/retrieve/v1/jobs/3769c20e-7308-437f-9a67-548016a4c58b\",\"rel\":\"self\",\"type\":\"application/json\"}],\"metadata\":{\"request\":{\"ids\":{\"area\":[51.5,-5.5,50.0,1.5],\"format\":\"zip\",\"origin\":\"reanalysis\",\"variable\":[\"mean_temperature\",\"growing_degree_days\",\"daily_maximum_temperature\",\"daily_minimum_temperature\",\"total_precipitation\"],\"other_parameters\":[\"max\",\"mean\",\"min\"],\"spatial_aggregation\":\"gridded\",\"temporal_aggregation\":[\"monthly\"]},\"labels\":{\"area\":\"[51.5, -5.5, 50.0, 1.5]\",\"format\":\"zip\",\"Variable\":[\"Mean temperature\",\"Growing degree days\",\"Daily maximum temperature\",\"Daily minimum temperature\",\"Total precipitation\"],\"Origin\":[\"Reanalysis\"],\"Temporal aggregation\":[\"Monthly\"],\"Spatial aggregation\":[\"Gridded\"],\"Other parameters\":[\"Max\",\"Mean\",\"Min\"]}},\"log\":[],\"origin\":\"api\"}}\n",
      "2025-01-09 13:50:19,844 DEBUG results not ready, waiting for 11.390625 seconds\n",
      "2025-01-09 13:50:31,239 DEBUG GET https://cds.climate.copernicus.eu/api/retrieve/v1/jobs/3769c20e-7308-437f-9a67-548016a4c58b\n",
      "2025-01-09 13:50:31,292 DEBUG REPLY {\"processID\":\"sis-ecde-climate-indicators\",\"type\":\"process\",\"jobID\":\"3769c20e-7308-437f-9a67-548016a4c58b\",\"status\":\"successful\",\"created\":\"2025-01-09T13:49:58.445786\",\"started\":\"2025-01-09T13:50:04.416314\",\"finished\":\"2025-01-09T13:50:25.769486\",\"updated\":\"2025-01-09T13:50:25.769486\",\"links\":[{\"href\":\"https://cds.climate.copernicus.eu/api/retrieve/v1/jobs/3769c20e-7308-437f-9a67-548016a4c58b\",\"rel\":\"self\",\"type\":\"application/json\"},{\"href\":\"https://cds.climate.copernicus.eu/api/retrieve/v1/jobs/3769c20e-7308-437f-9a67-548016a4c58b/results\",\"rel\":\"results\"}],\"metadata\":{\"request\":{\"ids\":{\"area\":[51.5,-5.5,50.0,1.5],\"format\":\"zip\",\"origin\":\"reanalysis\",\"variable\":[\"mean_temperature\",\"growing_degree_days\",\"daily_maximum_temperature\",\"daily_minimum_temperature\",\"total_precipitation\"],\"other_parameters\":[\"max\",\"mean\",\"min\"],\"spatial_aggregation\":\"gridded\",\"temporal_aggregation\":[\"monthly\"]},\"labels\":{\"area\":\"[51.5, -5.5, 50.0, 1.5]\",\"format\":\"zip\",\"Variable\":[\"Mean temperature\",\"Growing degree days\",\"Daily maximum temperature\",\"Daily minimum temperature\",\"Total precipitation\"],\"Origin\":[\"Reanalysis\"],\"Temporal aggregation\":[\"Monthly\"],\"Spatial aggregation\":[\"Gridded\"],\"Other parameters\":[\"Max\",\"Mean\",\"Min\"]}},\"log\":[],\"origin\":\"api\"}}\n",
      "2025-01-09 13:50:31,293 INFO status has been updated to successful\n",
      "2025-01-09 13:50:31,294 DEBUG GET https://cds.climate.copernicus.eu/api/retrieve/v1/jobs/3769c20e-7308-437f-9a67-548016a4c58b\n",
      "2025-01-09 13:50:31,343 DEBUG REPLY {\"processID\":\"sis-ecde-climate-indicators\",\"type\":\"process\",\"jobID\":\"3769c20e-7308-437f-9a67-548016a4c58b\",\"status\":\"successful\",\"created\":\"2025-01-09T13:49:58.445786\",\"started\":\"2025-01-09T13:50:04.416314\",\"finished\":\"2025-01-09T13:50:25.769486\",\"updated\":\"2025-01-09T13:50:25.769486\",\"links\":[{\"href\":\"https://cds.climate.copernicus.eu/api/retrieve/v1/jobs/3769c20e-7308-437f-9a67-548016a4c58b\",\"rel\":\"self\",\"type\":\"application/json\"},{\"href\":\"https://cds.climate.copernicus.eu/api/retrieve/v1/jobs/3769c20e-7308-437f-9a67-548016a4c58b/results\",\"rel\":\"results\"}],\"metadata\":{\"origin\":\"api\"}}\n",
      "2025-01-09 13:50:31,343 DEBUG GET https://cds.climate.copernicus.eu/api/retrieve/v1/jobs/3769c20e-7308-437f-9a67-548016a4c58b/results\n",
      "2025-01-09 13:50:31,396 DEBUG REPLY {\"asset\":{\"value\":{\"type\":\"application/zip\",\"href\":\"https://object-store.os-api.cci2.ecmwf.int:443/cci2-prod-cache/f610fa676cf26e3641a1bae857583336.zip\",\"file:checksum\":\"404d6cddcd45355f97fa85cbf22da0bf\",\"file:size\":7611031,\"file:local_path\":\"s3://cci2-prod-cache/f610fa676cf26e3641a1bae857583336.zip\"}}}\n",
      "                                                                                          \r"
     ]
    },
    {
     "data": {
      "text/plain": [
       "'ClimateIndicatorsTempGDDPrec.zip'"
      ]
     },
     "execution_count": 32,
     "metadata": {},
     "output_type": "execute_result"
    }
   ],
   "source": [
    "import cdsapi\n",
    "\n",
    "client = cdsapi.Client(full_stack=True, debug=True)\n",
    "\n",
    "dataset = \"sis-ecde-climate-indicators\"\n",
    "request = {\n",
    "    \"variable\": [\n",
    "        \"mean_temperature\",\n",
    "        \"growing_degree_days\",\n",
    "        \"daily_maximum_temperature\",\n",
    "        \"daily_minimum_temperature\",\n",
    "        \"total_precipitation\"\n",
    "    ],\n",
    "    \"origin\": \"reanalysis\",\n",
    "    \"temporal_aggregation\": [\"monthly\"],\n",
    "    \"spatial_aggregation\": \"gridded\",\n",
    "    \"other_parameters\": [\n",
    "        \"max\",\n",
    "        \"mean\",\n",
    "        \"min\"\n",
    "    ],\n",
    "    'format': 'zip',\n",
    "    # 'year': '2024',\n",
    "    # 'month': '01',\n",
    "    'area': [51.5, -5.5, 50.0, 1.5],  # Southern UK\n",
    "}\n",
    "filename = \"ClimateIndicatorsTempGDDPrec.zip\"\n",
    "client.retrieve(dataset, request, filename)\n",
    "\n",
    "# dataset = \"sis-ecde-climate-indicators\"\n",
    "# request = {\n",
    "#     \"variable\": [\n",
    "#         \"mean_temperature\",\n",
    "#         \"growing_degree_days\",\n",
    "#         # \"daily_maximum_temperature\",\n",
    "#         # \"daily_minimum_temperature\",\n",
    "#         # \"total_precipitation\"\n",
    "#     ],\n",
    "#     # 'year': [1970:2022],\n",
    "#     # 'month': '01',\n",
    "#     # 'day': '01',\n",
    "#     'area': [51.5, -5.5, 50.0, 1.5],  # Southern UK\n",
    "#     \"origin\": \"projections\",\n",
    "#     \"gcm\": [\"hadgem2_es\"],\n",
    "#     \"rcm\": [\"racmo22e\"],\n",
    "#     \"experiment\": [\"rcp8_5\"],\n",
    "#     \"ensemble_member\": [\"r1i1p1\"],\n",
    "#     \"temporal_aggregation\": [\"monthly\"],\n",
    "#     \"spatial_aggregation\": \"gridded\",\n",
    "#     # \"other_parameters\": [\n",
    "#     #     \"max\",\n",
    "#     #     \"mean\",\n",
    "#     #     \"min\"\n",
    "#     # ]\n",
    "# }\n",
    "# client.retrieve(dataset, request, 'ERA5data.grib')\n"
   ]
  },
  {
   "cell_type": "code",
   "execution_count": null,
   "metadata": {},
   "outputs": [],
   "source": []
  },
  {
   "cell_type": "code",
   "execution_count": null,
   "metadata": {},
   "outputs": [],
   "source": [
    "my_file = filename\n",
    "# Open the NetCDF file\n",
    "ds = xr.open_dataset(my_file)\n",
    "\n",
    "# Explore the dataset\n",
    "print(ds)\n",
    "\n",
    "# Access specific variables\n",
    "mean_temperature = ds[\"mean_temperature\"]  # Replace with variable names from the dataset\n",
    "print(mean_temperature)\n",
    "\n",
    "# Plot data (requires matplotlib)\n",
    "mean_temperature.isel(time=0).plot()  # Example: plot the first time slice"
   ]
  },
  {
   "cell_type": "code",
   "execution_count": 25,
   "metadata": {},
   "outputs": [
    {
     "name": "stdout",
     "output_type": "stream",
     "text": [
      "['ERA5data.grib']\n"
     ]
    }
   ],
   "source": [
    "import glob\n",
    "ncfiles = glob.glob(\"*.grib\")\n",
    "print(ncfiles)"
   ]
  },
  {
   "cell_type": "code",
   "execution_count": 29,
   "metadata": {},
   "outputs": [
    {
     "ename": "ValueError",
     "evalue": "unrecognized engine 'grib2' must be one of your download engines: ['netcdf4', 'scipy', 'cfgrib', 'store']. To install additional dependencies, see:\nhttps://docs.xarray.dev/en/stable/user-guide/io.html \nhttps://docs.xarray.dev/en/stable/getting-started-guide/installing.html",
     "output_type": "error",
     "traceback": [
      "\u001b[0;31m---------------------------------------------------------------------------\u001b[0m",
      "\u001b[0;31mValueError\u001b[0m                                Traceback (most recent call last)",
      "Cell \u001b[0;32mIn[29], line 6\u001b[0m\n\u001b[1;32m      3\u001b[0m     \u001b[38;5;28mprint\u001b[39m(grb)  \u001b[38;5;66;03m# Displays details about each GRIB message\u001b[39;00m\n\u001b[1;32m      5\u001b[0m file_path \u001b[38;5;241m=\u001b[39m \u001b[38;5;124m\"\u001b[39m\u001b[38;5;124mERA5data.grib\u001b[39m\u001b[38;5;124m\"\u001b[39m\n\u001b[0;32m----> 6\u001b[0m ds \u001b[38;5;241m=\u001b[39m \u001b[43mxr\u001b[49m\u001b[38;5;241;43m.\u001b[39;49m\u001b[43mopen_dataset\u001b[49m\u001b[43m(\u001b[49m\u001b[43mfile_path\u001b[49m\u001b[43m,\u001b[49m\u001b[43m \u001b[49m\u001b[43mengine\u001b[49m\u001b[38;5;241;43m=\u001b[39;49m\u001b[38;5;124;43m\"\u001b[39;49m\u001b[38;5;124;43mgrib2\u001b[39;49m\u001b[38;5;124;43m\"\u001b[39;49m\u001b[43m)\u001b[49m    \n",
      "File \u001b[0;32m/opt/homebrew/Caskroom/miniconda/base/envs/environmentaldata/lib/python3.12/site-packages/xarray/backends/api.py:656\u001b[0m, in \u001b[0;36mopen_dataset\u001b[0;34m(filename_or_obj, engine, chunks, cache, decode_cf, mask_and_scale, decode_times, decode_timedelta, use_cftime, concat_characters, decode_coords, drop_variables, inline_array, chunked_array_type, from_array_kwargs, backend_kwargs, **kwargs)\u001b[0m\n\u001b[1;32m    653\u001b[0m \u001b[38;5;28;01mif\u001b[39;00m from_array_kwargs \u001b[38;5;129;01mis\u001b[39;00m \u001b[38;5;28;01mNone\u001b[39;00m:\n\u001b[1;32m    654\u001b[0m     from_array_kwargs \u001b[38;5;241m=\u001b[39m {}\n\u001b[0;32m--> 656\u001b[0m backend \u001b[38;5;241m=\u001b[39m \u001b[43mplugins\u001b[49m\u001b[38;5;241;43m.\u001b[39;49m\u001b[43mget_backend\u001b[49m\u001b[43m(\u001b[49m\u001b[43mengine\u001b[49m\u001b[43m)\u001b[49m\n\u001b[1;32m    658\u001b[0m decoders \u001b[38;5;241m=\u001b[39m _resolve_decoders_kwargs(\n\u001b[1;32m    659\u001b[0m     decode_cf,\n\u001b[1;32m    660\u001b[0m     open_backend_dataset_parameters\u001b[38;5;241m=\u001b[39mbackend\u001b[38;5;241m.\u001b[39mopen_dataset_parameters,\n\u001b[0;32m   (...)\u001b[0m\n\u001b[1;32m    666\u001b[0m     decode_coords\u001b[38;5;241m=\u001b[39mdecode_coords,\n\u001b[1;32m    667\u001b[0m )\n\u001b[1;32m    669\u001b[0m overwrite_encoded_chunks \u001b[38;5;241m=\u001b[39m kwargs\u001b[38;5;241m.\u001b[39mpop(\u001b[38;5;124m\"\u001b[39m\u001b[38;5;124moverwrite_encoded_chunks\u001b[39m\u001b[38;5;124m\"\u001b[39m, \u001b[38;5;28;01mNone\u001b[39;00m)\n",
      "File \u001b[0;32m/opt/homebrew/Caskroom/miniconda/base/envs/environmentaldata/lib/python3.12/site-packages/xarray/backends/plugins.py:202\u001b[0m, in \u001b[0;36mget_backend\u001b[0;34m(engine)\u001b[0m\n\u001b[1;32m    200\u001b[0m     engines \u001b[38;5;241m=\u001b[39m list_engines()\n\u001b[1;32m    201\u001b[0m     \u001b[38;5;28;01mif\u001b[39;00m engine \u001b[38;5;129;01mnot\u001b[39;00m \u001b[38;5;129;01min\u001b[39;00m engines:\n\u001b[0;32m--> 202\u001b[0m         \u001b[38;5;28;01mraise\u001b[39;00m \u001b[38;5;167;01mValueError\u001b[39;00m(\n\u001b[1;32m    203\u001b[0m             \u001b[38;5;124mf\u001b[39m\u001b[38;5;124m\"\u001b[39m\u001b[38;5;124munrecognized engine \u001b[39m\u001b[38;5;124m'\u001b[39m\u001b[38;5;132;01m{\u001b[39;00mengine\u001b[38;5;132;01m}\u001b[39;00m\u001b[38;5;124m'\u001b[39m\u001b[38;5;124m must be one of your download engines: \u001b[39m\u001b[38;5;132;01m{\u001b[39;00m\u001b[38;5;28mlist\u001b[39m(engines)\u001b[38;5;132;01m}\u001b[39;00m\u001b[38;5;124m. \u001b[39m\u001b[38;5;124m\"\u001b[39m\n\u001b[1;32m    204\u001b[0m             \u001b[38;5;124m\"\u001b[39m\u001b[38;5;124mTo install additional dependencies, see:\u001b[39m\u001b[38;5;130;01m\\n\u001b[39;00m\u001b[38;5;124m\"\u001b[39m\n\u001b[1;32m    205\u001b[0m             \u001b[38;5;124m\"\u001b[39m\u001b[38;5;124mhttps://docs.xarray.dev/en/stable/user-guide/io.html \u001b[39m\u001b[38;5;130;01m\\n\u001b[39;00m\u001b[38;5;124m\"\u001b[39m\n\u001b[1;32m    206\u001b[0m             \u001b[38;5;124m\"\u001b[39m\u001b[38;5;124mhttps://docs.xarray.dev/en/stable/getting-started-guide/installing.html\u001b[39m\u001b[38;5;124m\"\u001b[39m\n\u001b[1;32m    207\u001b[0m         )\n\u001b[1;32m    208\u001b[0m     backend \u001b[38;5;241m=\u001b[39m engines[engine]\n\u001b[1;32m    209\u001b[0m \u001b[38;5;28;01melif\u001b[39;00m \u001b[38;5;28missubclass\u001b[39m(engine, BackendEntrypoint):\n",
      "\u001b[0;31mValueError\u001b[0m: unrecognized engine 'grib2' must be one of your download engines: ['netcdf4', 'scipy', 'cfgrib', 'store']. To install additional dependencies, see:\nhttps://docs.xarray.dev/en/stable/user-guide/io.html \nhttps://docs.xarray.dev/en/stable/getting-started-guide/installing.html"
     ]
    }
   ],
   "source": [
    "grbs = pygrib.open(\"ERA5data.grib\")\n",
    "for grb in grbs:\n",
    "    print(grb)  # Displays details about each GRIB message\n",
    "\n",
    "file_path = \"ERA5data.grib\"\n",
    "ds = xr.open_dataset(file_path, engine=\"grib2\")    "
   ]
  },
  {
   "cell_type": "code",
   "execution_count": 23,
   "metadata": {},
   "outputs": [
    {
     "ename": "OSError",
     "evalue": "[Errno -51] NetCDF: Unknown file format: 'ERA5data.nc'",
     "output_type": "error",
     "traceback": [
      "\u001b[0;31m---------------------------------------------------------------------------\u001b[0m",
      "\u001b[0;31mOSError\u001b[0m                                   Traceback (most recent call last)",
      "Cell \u001b[0;32mIn[23], line 2\u001b[0m\n\u001b[1;32m      1\u001b[0m \u001b[38;5;28;01mfrom\u001b[39;00m\u001b[38;5;250m \u001b[39m\u001b[38;5;21;01mnetCDF4\u001b[39;00m\u001b[38;5;250m \u001b[39m\u001b[38;5;28;01mimport\u001b[39;00m Dataset\n\u001b[0;32m----> 2\u001b[0m ncdata \u001b[38;5;241m=\u001b[39m \u001b[43mDataset\u001b[49m\u001b[43m(\u001b[49m\u001b[38;5;124;43m\"\u001b[39;49m\u001b[38;5;124;43mERA5data.nc\u001b[39;49m\u001b[38;5;124;43m\"\u001b[39;49m\u001b[43m,\u001b[49m\u001b[43m \u001b[49m\u001b[38;5;124;43m\"\u001b[39;49m\u001b[38;5;124;43mr\u001b[39;49m\u001b[38;5;124;43m\"\u001b[39;49m\u001b[43m,\u001b[49m\u001b[43m \u001b[49m\u001b[38;5;28;43mformat\u001b[39;49m\u001b[38;5;241;43m=\u001b[39;49m\u001b[38;5;124;43m\"\u001b[39;49m\u001b[38;5;124;43mNETCDF4\u001b[39;49m\u001b[38;5;124;43m\"\u001b[39;49m\u001b[43m)\u001b[49m\n\u001b[1;32m      3\u001b[0m \u001b[38;5;28mprint\u001b[39m(ncdata)\n\u001b[1;32m      4\u001b[0m \u001b[38;5;66;03m# don't forget to close the file when done\u001b[39;00m\n",
      "File \u001b[0;32msrc/netCDF4/_netCDF4.pyx:2521\u001b[0m, in \u001b[0;36mnetCDF4._netCDF4.Dataset.__init__\u001b[0;34m()\u001b[0m\n",
      "File \u001b[0;32msrc/netCDF4/_netCDF4.pyx:2158\u001b[0m, in \u001b[0;36mnetCDF4._netCDF4._ensure_nc_success\u001b[0;34m()\u001b[0m\n",
      "\u001b[0;31mOSError\u001b[0m: [Errno -51] NetCDF: Unknown file format: 'ERA5data.nc'"
     ]
    }
   ],
   "source": [
    "from netCDF4 import Dataset\n",
    "ncdata = Dataset(\"ERA5data.grib\", \"r\", format=\"grib\")\n",
    "print(ncdata)\n",
    "# don't forget to close the file when done\n",
    "ncdata.close()"
   ]
  },
  {
   "cell_type": "markdown",
   "metadata": {},
   "source": []
  },
  {
   "cell_type": "markdown",
   "metadata": {},
   "source": [
    "## Making Plots"
   ]
  },
  {
   "cell_type": "markdown",
   "metadata": {},
   "source": [
    "## External Data"
   ]
  },
  {
   "cell_type": "markdown",
   "metadata": {},
   "source": [
    "# Brainstorming\n"
   ]
  },
  {
   "cell_type": "markdown",
   "metadata": {},
   "source": [
    "To predict wine production of a region\n",
    "\n",
    "I may want to look at wine production in a different region\n",
    "\n",
    "Compare two regions:\n",
    "* 1 known region in France:\n",
    "    * Gather its wine production data\n",
    "    * Gather its weather related data: temperature, rainfall, sunlight\n",
    "    * Gather its other characteristics: soil\n",
    "\n",
    "* Hampshire\n",
    "    * Same data\n",
    "\n",
    "\n",
    "1. Compare the correlation of these data points with wine production\n",
    "2. Investigate the Hampshire weather data to evaluate if wine production is likely/possible"
   ]
  },
  {
   "cell_type": "markdown",
   "metadata": {},
   "source": [
    "# Research"
   ]
  },
  {
   "cell_type": "markdown",
   "metadata": {},
   "source": [
    "* Temperature Range: Most grape varieties thrive in regions with **average** growing season temperatures between 16°C and 22°C (61°F and 72°F).\n",
    "    * Sustained temperatures above 35°C (95°F) are typically considered too hot for most grapevines.\n",
    "    * Extreme heatwaves above 40°C (104°F) can cause immediate damage to the vines and fruit.\n",
    "\n",
    "* Water Requirements Across the Growing Season: Grapevines typically need 500 to 700 mm (20 to 28 inches) of water annually, though this varies:\n",
    "    * Cooler climates may require less.\n",
    "    * Hotter, arid climates may require more water, often supplemented by irrigation.\n",
    "    * The growing season (bud break to harvest) requires the majority of this water.\n",
    "\n"
   ]
  },
  {
   "cell_type": "markdown",
   "metadata": {},
   "source": [
    "**Negative Factors**\n",
    "\n",
    "* Extreme Temperatures:\n",
    "    * Too Hot: Heat stress can cause dehydration, sunburn on grape skins, and premature ripening, leading to poor flavor balance.\n",
    "    * Too Cold: Frost can damage vines, especially during budding or flowering, and prolonged cold limits the growing season.\n",
    "\n",
    "* Unpredictable Weather:\n",
    "    * Hail, heavy storms, or late frosts can destroy crops or cause uneven ripening.\n",
    "\n",
    "* Excess Rainfall:\n",
    "    * Overly wet conditions encourage fungal diseases like powdery mildew or botrytis.\n",
    "    * Waterlogging can reduce oxygen availability in the soil, damaging root systems."
   ]
  },
  {
   "cell_type": "markdown",
   "metadata": {},
   "source": [
    "**Key Stages of the Growing Season**\n",
    "\n",
    "* Bud Break (Early Spring):\n",
    "    * Vines awaken from winter dormancy as temperatures rise. Buds begin to swell and open, revealing new shoots.\n",
    "    * Optimal conditions: Temperatures around 10°C (50°F) or higher trigger bud break.\n",
    "\n",
    "* Flowering (Late Spring to Early Summer):\n",
    "    * Small flowers appear on the shoots and are pollinated to form grape clusters.\n",
    "    * Stable, warm weather during flowering (18–25°C or 64–77°F) ensures good fruit set, while cold, rain, or wind can reduce yields.\n",
    "\n",
    "* Fruit Set and Berry Development (Early to Mid-Summer):\n",
    "    * Pollinated flowers develop into tiny green berries.\n",
    "    * Vines require consistent sunlight, moderate warmth (20–30°C or 68–86°F), and enough water to support berry growth.\n",
    "\n",
    "* Veraison (Mid to Late Summer):\n",
    "    * The berries soften and change color (green to red, purple, or yellow, depending on the variety).\n",
    "    * Sugar levels increase, acidity decreases, and tannins develop during this stage.\n",
    "\n",
    "* Ripening (Late Summer to Early Autumn):\n",
    "    * Grapes accumulate sugars, develop flavor complexity, and balance acidity.\n",
    "    * Ideal temperatures: 25–30°C (77–86°F) with dry weather to avoid disease pressure.\n",
    "\n",
    "* Harvest (Early to Late Autumn):\n",
    "    * Grapes are picked when they reach desired ripeness, which depends on sugar, acidity, and tannin levels.\n",
    "    * Timing is critical to achieve the desired wine style (e.g., early harvest for sparkling wines with higher acidity)."
   ]
  },
  {
   "cell_type": "markdown",
   "metadata": {},
   "source": [
    "The growing season is also assessed using the Growing Degree Days (GDD) metric, which measures heat accumulation over the season.\n",
    "\n"
   ]
  }
 ],
 "metadata": {
  "kernelspec": {
   "display_name": "environmentaldata",
   "language": "python",
   "name": "python3"
  },
  "language_info": {
   "codemirror_mode": {
    "name": "ipython",
    "version": 3
   },
   "file_extension": ".py",
   "mimetype": "text/x-python",
   "name": "python",
   "nbconvert_exporter": "python",
   "pygments_lexer": "ipython3",
   "version": "3.12.2"
  }
 },
 "nbformat": 4,
 "nbformat_minor": 2
}
